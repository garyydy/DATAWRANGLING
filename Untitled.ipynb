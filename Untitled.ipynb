{
 "cells": [
  {
   "cell_type": "code",
   "execution_count": 1,
   "id": "7f6f9af2",
   "metadata": {},
   "outputs": [],
   "source": [
    "import pandas as pd\n",
    "import numpy as np\n"
   ]
  },
  {
   "cell_type": "code",
   "execution_count": 6,
   "id": "339d8c06",
   "metadata": {},
   "outputs": [
    {
     "name": "stdout",
     "output_type": "stream",
     "text": [
      "[0. 0. 0. 0. 1. 0. 0. 0. 0. 0.]\n"
     ]
    }
   ],
   "source": [
    "#q1\n",
    "x=np.zeros(10)\n",
    "x[4]=1\n",
    "print(x)"
   ]
  },
  {
   "cell_type": "code",
   "execution_count": 8,
   "id": "6f655b22",
   "metadata": {},
   "outputs": [
    {
     "name": "stdout",
     "output_type": "stream",
     "text": [
      "Original vector:\n",
      "[10 11 12 13 14 15 16 17 18 19 20 21 22 23 24 25 26 27 28 29 30 31 32 33\n",
      " 34 35 36 37 38 39 40 41 42 43 44 45 46 47 48]\n"
     ]
    }
   ],
   "source": [
    "#q2\n",
    "v = np.arange(10,49)\n",
    "print(\"Original vector:\")\n",
    "print(v)"
   ]
  },
  {
   "cell_type": "code",
   "execution_count": 10,
   "id": "d0281e51",
   "metadata": {},
   "outputs": [
    {
     "name": "stdout",
     "output_type": "stream",
     "text": [
      "[[0 1 2]\n",
      " [3 4 5]\n",
      " [6 7 8]]\n"
     ]
    }
   ],
   "source": [
    "#q3\n",
    "import numpy as np\n",
    "x =  np.arange(0, 9).reshape(3,3)\n",
    "print(x)"
   ]
  },
  {
   "cell_type": "code",
   "execution_count": 11,
   "id": "1bc7dc51",
   "metadata": {},
   "outputs": [
    {
     "name": "stdout",
     "output_type": "stream",
     "text": [
      "Input  array : \n",
      " [1 2 0 0 4 0]\n",
      "Indices of non zero elements :  (array([0, 1, 4], dtype=int64),)\n"
     ]
    }
   ],
   "source": [
    "#q4\n",
    "import numpy as geek\n",
    "arr = geek.array( [1,2,0,0,4,0])\n",
    "  \n",
    "print (\"Input  array : \\n\", arr)\n",
    "    \n",
    "out_tpl = geek.nonzero(arr)\n",
    "print (\"Indices of non zero elements : \", out_tpl) "
   ]
  },
  {
   "cell_type": "code",
   "execution_count": 1,
   "id": "ff16ea82",
   "metadata": {
    "scrolled": true
   },
   "outputs": [
    {
     "name": "stdout",
     "output_type": "stream",
     "text": [
      "Original Array:\n",
      "[[9.65523674e-01 6.86769019e-01 8.32989059e-01 5.42749456e-01\n",
      "  9.13377617e-01 5.26490253e-01 3.63188859e-01 9.37413296e-01\n",
      "  4.27286714e-01 7.71355930e-01]\n",
      " [2.46344715e-01 4.14645934e-01 9.18448794e-01 5.27339669e-01\n",
      "  6.01280468e-01 6.96103401e-02 3.26718258e-01 8.37703549e-01\n",
      "  4.14639691e-01 5.84926580e-01]\n",
      " [5.62479091e-01 7.16513713e-01 8.92103535e-03 1.13426295e-01\n",
      "  3.38210298e-01 9.41796457e-01 1.03567804e-01 3.84188256e-01\n",
      "  6.01229365e-01 4.92900704e-01]\n",
      " [5.54834374e-02 9.25092296e-01 6.59059416e-01 9.93386939e-01\n",
      "  7.11504269e-01 3.76482513e-01 8.48991196e-01 1.46966572e-01\n",
      "  3.63355271e-02 5.79622283e-02]\n",
      " [7.18285644e-01 5.08522094e-01 6.11901905e-02 1.21841557e-01\n",
      "  5.49407996e-01 7.48631671e-01 2.27308087e-01 1.49123799e-01\n",
      "  6.45273890e-01 7.27496363e-02]\n",
      " [1.26458171e-01 6.07024699e-01 1.90039392e-01 7.62580219e-01\n",
      "  3.77936255e-01 3.21052620e-01 4.15034919e-01 3.13915621e-01\n",
      "  8.06635055e-01 6.27613884e-01]\n",
      " [8.00520219e-01 8.81827327e-02 2.18582363e-01 9.75796171e-01\n",
      "  3.60224454e-01 6.45728864e-01 2.16059463e-01 3.10354031e-01\n",
      "  8.32389073e-01 6.53320744e-01]\n",
      " [1.37429941e-01 9.77761689e-01 7.59140769e-01 2.51224379e-01\n",
      "  6.21612006e-01 9.61114887e-01 7.91151036e-01 2.82532802e-01\n",
      "  9.43008066e-01 2.83173317e-01]\n",
      " [2.20020865e-01 3.69301808e-01 8.39466398e-01 5.00554914e-01\n",
      "  6.97654257e-01 2.42794880e-01 6.98787459e-01 8.62184681e-01\n",
      "  3.69072985e-01 5.18092501e-01]\n",
      " [9.88045939e-01 8.73520991e-01 9.62921628e-01 7.21694759e-02\n",
      "  6.18149934e-01 8.65905885e-01 3.18358910e-01 8.48072127e-01\n",
      "  8.03739579e-01 8.48896563e-05]]\n",
      "Minimum and Maximum Values:\n",
      "8.488965627484468e-05 0.9933869385203187\n"
     ]
    }
   ],
   "source": [
    "#q5\n",
    "import numpy as np\n",
    "x = np.random.random((10,10))\n",
    "print(\"Original Array:\")\n",
    "print(x) \n",
    "xmin, xmax = x.min(), x.max()\n",
    "print(\"Minimum and Maximum Values:\")\n",
    "print(xmin, xmax)"
   ]
  },
  {
   "cell_type": "code",
   "execution_count": 4,
   "id": "dab8a421",
   "metadata": {},
   "outputs": [
    {
     "name": "stdout",
     "output_type": "stream",
     "text": [
      "[0.12314473 0.67607846 0.04846571 0.63996207 0.22533733 0.99044684\n",
      " 0.47676292 0.195948   0.21904319 0.85051441 0.02371648 0.93913829\n",
      " 0.83652325 0.0747776  0.60808375 0.20823537 0.22032574 0.85195892\n",
      " 0.83681542 0.74820788 0.05228787 0.92697925 0.92253892 0.09857077\n",
      " 0.84269767 0.49824301 0.27363182 0.04813341 0.28847026 0.03997632]\n",
      "0.4595005216647755\n"
     ]
    }
   ],
   "source": [
    "#q6\n",
    "Z = np.random.random(30)\n",
    "print(Z)\n",
    "m = Z.mean()\n",
    "print (m)\n"
   ]
  },
  {
   "cell_type": "code",
   "execution_count": null,
   "id": "144c40be",
   "metadata": {},
   "outputs": [],
   "source": []
  }
 ],
 "metadata": {
  "kernelspec": {
   "display_name": "Python 3 (ipykernel)",
   "language": "python",
   "name": "python3"
  },
  "language_info": {
   "codemirror_mode": {
    "name": "ipython",
    "version": 3
   },
   "file_extension": ".py",
   "mimetype": "text/x-python",
   "name": "python",
   "nbconvert_exporter": "python",
   "pygments_lexer": "ipython3",
   "version": "3.9.7"
  }
 },
 "nbformat": 4,
 "nbformat_minor": 5
}
